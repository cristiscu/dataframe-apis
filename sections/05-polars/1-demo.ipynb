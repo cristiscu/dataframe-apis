{
 "cells": [
  {
   "cell_type": "code",
   "execution_count": 2,
   "metadata": {},
   "outputs": [
    {
     "name": "stdout",
     "output_type": "stream",
     "text": [
      "shape: (3, 4)\n",
      "┌─────────┬─────────────────────┬───────┬────────┐\n",
      "│ integer ┆ date                ┆ float ┆ string │\n",
      "│ ---     ┆ ---                 ┆ ---   ┆ ---    │\n",
      "│ i64     ┆ datetime[μs]        ┆ f64   ┆ str    │\n",
      "╞═════════╪═════════════════════╪═══════╪════════╡\n",
      "│ 1       ┆ 2025-01-01 00:00:00 ┆ 4.0   ┆ a      │\n",
      "│ 2       ┆ 2025-01-02 00:00:00 ┆ 5.0   ┆ b      │\n",
      "│ 3       ┆ 2025-01-03 00:00:00 ┆ 6.0   ┆ c      │\n",
      "└─────────┴─────────────────────┴───────┴────────┘\n"
     ]
    }
   ],
   "source": [
    "# see https://docs.pola.rs/user-guide/getting-started/#reading-writing\n",
    "import polars as pl\n",
    "from datetime import datetime\n",
    "\n",
    "df = pl.DataFrame({\n",
    "    \"integer\": [1, 2, 3],\n",
    "    \"date\": [\n",
    "        datetime(2025, 1, 1),\n",
    "        datetime(2025, 1, 2),\n",
    "        datetime(2025, 1, 3),\n",
    "    ],\n",
    "    \"float\": [4.0, 5.0, 6.0],\n",
    "    \"string\": [\"a\", \"b\", \"c\"],\n",
    "})\n",
    "print(df)"
   ]
  },
  {
   "cell_type": "code",
   "execution_count": 3,
   "metadata": {},
   "outputs": [
    {
     "name": "stdout",
     "output_type": "stream",
     "text": [
      "shape: (3, 4)\n",
      "┌─────────┬────────────────────────────┬───────┬────────┐\n",
      "│ integer ┆ date                       ┆ float ┆ string │\n",
      "│ ---     ┆ ---                        ┆ ---   ┆ ---    │\n",
      "│ i64     ┆ str                        ┆ f64   ┆ str    │\n",
      "╞═════════╪════════════════════════════╪═══════╪════════╡\n",
      "│ 1       ┆ 2025-01-01T00:00:00.000000 ┆ 4.0   ┆ a      │\n",
      "│ 2       ┆ 2025-01-02T00:00:00.000000 ┆ 5.0   ┆ b      │\n",
      "│ 3       ┆ 2025-01-03T00:00:00.000000 ┆ 6.0   ┆ c      │\n",
      "└─────────┴────────────────────────────┴───────┴────────┘\n"
     ]
    }
   ],
   "source": [
    "df.write_csv(\"../../data/polars.csv\")\n",
    "df_csv = pl.read_csv(\"../../data/polars.csv\")\n",
    "print(df_csv)"
   ]
  },
  {
   "cell_type": "code",
   "execution_count": 10,
   "metadata": {},
   "outputs": [
    {
     "data": {
      "text/html": [
       "<div><style>\n",
       ".dataframe > thead > tr,\n",
       ".dataframe > tbody > tr {\n",
       "  text-align: right;\n",
       "  white-space: pre-wrap;\n",
       "}\n",
       "</style>\n",
       "<small>shape: (3, 4)</small><table border=\"1\" class=\"dataframe\"><thead><tr><th>integer</th><th>date</th><th>float</th><th>string</th></tr><tr><td>i64</td><td>datetime[μs]</td><td>f64</td><td>str</td></tr></thead><tbody><tr><td>1</td><td>2025-01-01 00:00:00</td><td>4.0</td><td>&quot;a&quot;</td></tr><tr><td>2</td><td>2025-01-02 00:00:00</td><td>5.0</td><td>&quot;b&quot;</td></tr><tr><td>3</td><td>2025-01-03 00:00:00</td><td>6.0</td><td>&quot;c&quot;</td></tr></tbody></table></div>"
      ],
      "text/plain": [
       "shape: (3, 4)\n",
       "┌─────────┬─────────────────────┬───────┬────────┐\n",
       "│ integer ┆ date                ┆ float ┆ string │\n",
       "│ ---     ┆ ---                 ┆ ---   ┆ ---    │\n",
       "│ i64     ┆ datetime[μs]        ┆ f64   ┆ str    │\n",
       "╞═════════╪═════════════════════╪═══════╪════════╡\n",
       "│ 1       ┆ 2025-01-01 00:00:00 ┆ 4.0   ┆ a      │\n",
       "│ 2       ┆ 2025-01-02 00:00:00 ┆ 5.0   ┆ b      │\n",
       "│ 3       ┆ 2025-01-03 00:00:00 ┆ 6.0   ┆ c      │\n",
       "└─────────┴─────────────────────┴───────┴────────┘"
      ]
     },
     "execution_count": 10,
     "metadata": {},
     "output_type": "execute_result"
    }
   ],
   "source": [
    "df.select(pl.col(\"*\"))"
   ]
  },
  {
   "cell_type": "code",
   "execution_count": 8,
   "metadata": {},
   "outputs": [
    {
     "data": {
      "text/html": [
       "<div><style>\n",
       ".dataframe > thead > tr,\n",
       ".dataframe > tbody > tr {\n",
       "  text-align: right;\n",
       "  white-space: pre-wrap;\n",
       "}\n",
       "</style>\n",
       "<small>shape: (2, 4)</small><table border=\"1\" class=\"dataframe\"><thead><tr><th>integer</th><th>date</th><th>float</th><th>string</th></tr><tr><td>i64</td><td>datetime[μs]</td><td>f64</td><td>str</td></tr></thead><tbody><tr><td>1</td><td>2025-01-01 00:00:00</td><td>4.0</td><td>&quot;a&quot;</td></tr><tr><td>2</td><td>2025-01-02 00:00:00</td><td>5.0</td><td>&quot;b&quot;</td></tr></tbody></table></div>"
      ],
      "text/plain": [
       "shape: (2, 4)\n",
       "┌─────────┬─────────────────────┬───────┬────────┐\n",
       "│ integer ┆ date                ┆ float ┆ string │\n",
       "│ ---     ┆ ---                 ┆ ---   ┆ ---    │\n",
       "│ i64     ┆ datetime[μs]        ┆ f64   ┆ str    │\n",
       "╞═════════╪═════════════════════╪═══════╪════════╡\n",
       "│ 1       ┆ 2025-01-01 00:00:00 ┆ 4.0   ┆ a      │\n",
       "│ 2       ┆ 2025-01-02 00:00:00 ┆ 5.0   ┆ b      │\n",
       "└─────────┴─────────────────────┴───────┴────────┘"
      ]
     },
     "execution_count": 8,
     "metadata": {},
     "output_type": "execute_result"
    }
   ],
   "source": [
    "df.filter(pl.col(\"date\").is_between(datetime(2025, 1, 1), datetime(2025, 1, 2)))"
   ]
  },
  {
   "cell_type": "code",
   "execution_count": 9,
   "metadata": {},
   "outputs": [
    {
     "ename": "InvalidOperationError",
     "evalue": "`is_not_nan` operation not supported for dtype `str`",
     "output_type": "error",
     "traceback": [
      "\u001b[1;31m---------------------------------------------------------------------------\u001b[0m",
      "\u001b[1;31mInvalidOperationError\u001b[0m                     Traceback (most recent call last)",
      "Cell \u001b[1;32mIn[9], line 1\u001b[0m\n\u001b[1;32m----> 1\u001b[0m \u001b[43mdf\u001b[49m\u001b[38;5;241;43m.\u001b[39;49m\u001b[43mfilter\u001b[49m\u001b[43m(\u001b[49m\u001b[43m(\u001b[49m\u001b[43mpl\u001b[49m\u001b[38;5;241;43m.\u001b[39;49m\u001b[43mcol\u001b[49m\u001b[43m(\u001b[49m\u001b[38;5;124;43m\"\u001b[39;49m\u001b[38;5;124;43minteger\u001b[39;49m\u001b[38;5;124;43m\"\u001b[39;49m\u001b[43m)\u001b[49m\u001b[43m \u001b[49m\u001b[38;5;241;43m<\u001b[39;49m\u001b[38;5;241;43m=\u001b[39;49m\u001b[43m \u001b[49m\u001b[38;5;241;43m3\u001b[39;49m\u001b[43m)\u001b[49m\u001b[43m \u001b[49m\u001b[38;5;241;43m&\u001b[39;49m\u001b[43m \u001b[49m\u001b[43m(\u001b[49m\u001b[43mpl\u001b[49m\u001b[38;5;241;43m.\u001b[39;49m\u001b[43mcol\u001b[49m\u001b[43m(\u001b[49m\u001b[38;5;124;43m\"\u001b[39;49m\u001b[38;5;124;43mstring\u001b[39;49m\u001b[38;5;124;43m\"\u001b[39;49m\u001b[43m)\u001b[49m\u001b[38;5;241;43m.\u001b[39;49m\u001b[43mis_not_nan\u001b[49m\u001b[43m(\u001b[49m\u001b[43m)\u001b[49m\u001b[43m)\u001b[49m\u001b[43m)\u001b[49m\n",
      "File \u001b[1;32mc:\\Projects\\dataframe-apis\\venv\\Lib\\site-packages\\polars\\dataframe\\frame.py:4701\u001b[0m, in \u001b[0;36mDataFrame.filter\u001b[1;34m(self, *predicates, **constraints)\u001b[0m\n\u001b[0;32m   4547\u001b[0m \u001b[38;5;28;01mdef\u001b[39;00m \u001b[38;5;21mfilter\u001b[39m(\n\u001b[0;32m   4548\u001b[0m     \u001b[38;5;28mself\u001b[39m,\n\u001b[0;32m   4549\u001b[0m     \u001b[38;5;241m*\u001b[39mpredicates: (\n\u001b[1;32m   (...)\u001b[0m\n\u001b[0;32m   4556\u001b[0m     \u001b[38;5;241m*\u001b[39m\u001b[38;5;241m*\u001b[39mconstraints: Any,\n\u001b[0;32m   4557\u001b[0m ) \u001b[38;5;241m-\u001b[39m\u001b[38;5;241m>\u001b[39m DataFrame:\n\u001b[0;32m   4558\u001b[0m \u001b[38;5;250m    \u001b[39m\u001b[38;5;124;03m\"\"\"\u001b[39;00m\n\u001b[0;32m   4559\u001b[0m \u001b[38;5;124;03m    Filter the rows in the DataFrame based on one or more predicate expressions.\u001b[39;00m\n\u001b[0;32m   4560\u001b[0m \n\u001b[1;32m   (...)\u001b[0m\n\u001b[0;32m   4699\u001b[0m \n\u001b[0;32m   4700\u001b[0m \u001b[38;5;124;03m    \"\"\"\u001b[39;00m\n\u001b[1;32m-> 4701\u001b[0m     \u001b[38;5;28;01mreturn\u001b[39;00m \u001b[38;5;28;43mself\u001b[39;49m\u001b[38;5;241;43m.\u001b[39;49m\u001b[43mlazy\u001b[49m\u001b[43m(\u001b[49m\u001b[43m)\u001b[49m\u001b[38;5;241;43m.\u001b[39;49m\u001b[43mfilter\u001b[49m\u001b[43m(\u001b[49m\u001b[38;5;241;43m*\u001b[39;49m\u001b[43mpredicates\u001b[49m\u001b[43m,\u001b[49m\u001b[43m \u001b[49m\u001b[38;5;241;43m*\u001b[39;49m\u001b[38;5;241;43m*\u001b[39;49m\u001b[43mconstraints\u001b[49m\u001b[43m)\u001b[49m\u001b[38;5;241;43m.\u001b[39;49m\u001b[43mcollect\u001b[49m\u001b[43m(\u001b[49m\u001b[43m_eager\u001b[49m\u001b[38;5;241;43m=\u001b[39;49m\u001b[38;5;28;43;01mTrue\u001b[39;49;00m\u001b[43m)\u001b[49m\n",
      "File \u001b[1;32mc:\\Projects\\dataframe-apis\\venv\\Lib\\site-packages\\polars\\lazyframe\\frame.py:2034\u001b[0m, in \u001b[0;36mLazyFrame.collect\u001b[1;34m(self, type_coercion, predicate_pushdown, projection_pushdown, simplify_expression, slice_pushdown, comm_subplan_elim, comm_subexpr_elim, cluster_with_columns, no_optimization, streaming, engine, background, _eager, **_kwargs)\u001b[0m\n\u001b[0;32m   2032\u001b[0m \u001b[38;5;66;03m# Only for testing purposes\u001b[39;00m\n\u001b[0;32m   2033\u001b[0m callback \u001b[38;5;241m=\u001b[39m _kwargs\u001b[38;5;241m.\u001b[39mget(\u001b[38;5;124m\"\u001b[39m\u001b[38;5;124mpost_opt_callback\u001b[39m\u001b[38;5;124m\"\u001b[39m, callback)\n\u001b[1;32m-> 2034\u001b[0m \u001b[38;5;28;01mreturn\u001b[39;00m wrap_df(\u001b[43mldf\u001b[49m\u001b[38;5;241;43m.\u001b[39;49m\u001b[43mcollect\u001b[49m\u001b[43m(\u001b[49m\u001b[43mcallback\u001b[49m\u001b[43m)\u001b[49m)\n",
      "\u001b[1;31mInvalidOperationError\u001b[0m: `is_not_nan` operation not supported for dtype `str`"
     ]
    }
   ],
   "source": [
    "df.filter((pl.col(\"integer\") <= 3) & (pl.col(\"string\").is_not_nan()))"
   ]
  },
  {
   "cell_type": "code",
   "execution_count": 11,
   "metadata": {},
   "outputs": [
    {
     "data": {
      "text/html": [
       "<div><style>\n",
       ".dataframe > thead > tr,\n",
       ".dataframe > tbody > tr {\n",
       "  text-align: right;\n",
       "  white-space: pre-wrap;\n",
       "}\n",
       "</style>\n",
       "<small>shape: (3, 6)</small><table border=\"1\" class=\"dataframe\"><thead><tr><th>integer</th><th>date</th><th>float</th><th>string</th><th>e</th><th>b+42</th></tr><tr><td>i64</td><td>datetime[μs]</td><td>f64</td><td>str</td><td>f64</td><td>f64</td></tr></thead><tbody><tr><td>1</td><td>2025-01-01 00:00:00</td><td>4.0</td><td>&quot;a&quot;</td><td>15.0</td><td>46.0</td></tr><tr><td>2</td><td>2025-01-02 00:00:00</td><td>5.0</td><td>&quot;b&quot;</td><td>15.0</td><td>47.0</td></tr><tr><td>3</td><td>2025-01-03 00:00:00</td><td>6.0</td><td>&quot;c&quot;</td><td>15.0</td><td>48.0</td></tr></tbody></table></div>"
      ],
      "text/plain": [
       "shape: (3, 6)\n",
       "┌─────────┬─────────────────────┬───────┬────────┬──────┬──────┐\n",
       "│ integer ┆ date                ┆ float ┆ string ┆ e    ┆ b+42 │\n",
       "│ ---     ┆ ---                 ┆ ---   ┆ ---    ┆ ---  ┆ ---  │\n",
       "│ i64     ┆ datetime[μs]        ┆ f64   ┆ str    ┆ f64  ┆ f64  │\n",
       "╞═════════╪═════════════════════╪═══════╪════════╪══════╪══════╡\n",
       "│ 1       ┆ 2025-01-01 00:00:00 ┆ 4.0   ┆ a      ┆ 15.0 ┆ 46.0 │\n",
       "│ 2       ┆ 2025-01-02 00:00:00 ┆ 5.0   ┆ b      ┆ 15.0 ┆ 47.0 │\n",
       "│ 3       ┆ 2025-01-03 00:00:00 ┆ 6.0   ┆ c      ┆ 15.0 ┆ 48.0 │\n",
       "└─────────┴─────────────────────┴───────┴────────┴──────┴──────┘"
      ]
     },
     "execution_count": 11,
     "metadata": {},
     "output_type": "execute_result"
    }
   ],
   "source": [
    "df.with_columns(pl.col(\"float\").sum().alias(\"e\"), (pl.col(\"float\") + 42).alias(\"b+42\"))"
   ]
  },
  {
   "cell_type": "code",
   "execution_count": 12,
   "metadata": {},
   "outputs": [],
   "source": [
    "df2 = pl.DataFrame(\n",
    "    {\n",
    "        \"x\": range(8),\n",
    "        \"y\": [\"A\", \"A\", \"A\", \"B\", \"B\", \"C\", \"X\", \"X\"],\n",
    "    }\n",
    ")"
   ]
  },
  {
   "cell_type": "code",
   "execution_count": 13,
   "metadata": {},
   "outputs": [
    {
     "data": {
      "text/html": [
       "<div><style>\n",
       ".dataframe > thead > tr,\n",
       ".dataframe > tbody > tr {\n",
       "  text-align: right;\n",
       "  white-space: pre-wrap;\n",
       "}\n",
       "</style>\n",
       "<small>shape: (4, 2)</small><table border=\"1\" class=\"dataframe\"><thead><tr><th>y</th><th>len</th></tr><tr><td>str</td><td>u32</td></tr></thead><tbody><tr><td>&quot;A&quot;</td><td>3</td></tr><tr><td>&quot;B&quot;</td><td>2</td></tr><tr><td>&quot;C&quot;</td><td>1</td></tr><tr><td>&quot;X&quot;</td><td>2</td></tr></tbody></table></div>"
      ],
      "text/plain": [
       "shape: (4, 2)\n",
       "┌─────┬─────┐\n",
       "│ y   ┆ len │\n",
       "│ --- ┆ --- │\n",
       "│ str ┆ u32 │\n",
       "╞═════╪═════╡\n",
       "│ A   ┆ 3   │\n",
       "│ B   ┆ 2   │\n",
       "│ C   ┆ 1   │\n",
       "│ X   ┆ 2   │\n",
       "└─────┴─────┘"
      ]
     },
     "execution_count": 13,
     "metadata": {},
     "output_type": "execute_result"
    }
   ],
   "source": [
    "df2.group_by(\"y\", maintain_order=True).len()"
   ]
  },
  {
   "cell_type": "code",
   "execution_count": 14,
   "metadata": {},
   "outputs": [
    {
     "data": {
      "text/html": [
       "<div><style>\n",
       ".dataframe > thead > tr,\n",
       ".dataframe > tbody > tr {\n",
       "  text-align: right;\n",
       "  white-space: pre-wrap;\n",
       "}\n",
       "</style>\n",
       "<small>shape: (4, 3)</small><table border=\"1\" class=\"dataframe\"><thead><tr><th>y</th><th>count</th><th>sum</th></tr><tr><td>str</td><td>u32</td><td>i64</td></tr></thead><tbody><tr><td>&quot;A&quot;</td><td>3</td><td>3</td></tr><tr><td>&quot;B&quot;</td><td>2</td><td>7</td></tr><tr><td>&quot;C&quot;</td><td>1</td><td>5</td></tr><tr><td>&quot;X&quot;</td><td>2</td><td>13</td></tr></tbody></table></div>"
      ],
      "text/plain": [
       "shape: (4, 3)\n",
       "┌─────┬───────┬─────┐\n",
       "│ y   ┆ count ┆ sum │\n",
       "│ --- ┆ ---   ┆ --- │\n",
       "│ str ┆ u32   ┆ i64 │\n",
       "╞═════╪═══════╪═════╡\n",
       "│ A   ┆ 3     ┆ 3   │\n",
       "│ B   ┆ 2     ┆ 7   │\n",
       "│ C   ┆ 1     ┆ 5   │\n",
       "│ X   ┆ 2     ┆ 13  │\n",
       "└─────┴───────┴─────┘"
      ]
     },
     "execution_count": 14,
     "metadata": {},
     "output_type": "execute_result"
    }
   ],
   "source": [
    "df2.group_by(\"y\", maintain_order=True).agg(\n",
    "    pl.col(\"*\").count().alias(\"count\"),\n",
    "    pl.col(\"*\").sum().alias(\"sum\"),\n",
    ")"
   ]
  },
  {
   "cell_type": "code",
   "execution_count": 16,
   "metadata": {},
   "outputs": [
    {
     "name": "stdout",
     "output_type": "stream",
     "text": [
      "shape: (3, 3)\n",
      "┌─────────┬───────┬───────┐\n",
      "│ integer ┆ float ┆ a * b │\n",
      "│ ---     ┆ ---   ┆ ---   │\n",
      "│ i64     ┆ f64   ┆ f64   │\n",
      "╞═════════╪═══════╪═══════╡\n",
      "│ 1       ┆ 4.0   ┆ 4.0   │\n",
      "│ 2       ┆ 5.0   ┆ 10.0  │\n",
      "│ 3       ┆ 6.0   ┆ 18.0  │\n",
      "└─────────┴───────┴───────┘\n"
     ]
    }
   ],
   "source": [
    "df_x = df.with_columns(\n",
    "    (pl.col(\"integer\") * pl.col(\"float\")).alias(\"a * b\")).select(\n",
    "    pl.all().exclude([\"date\", \"string\"])\n",
    ")\n",
    "print(df_x)"
   ]
  },
  {
   "cell_type": "code",
   "execution_count": 17,
   "metadata": {},
   "outputs": [
    {
     "ename": "NameError",
     "evalue": "name 'np' is not defined",
     "output_type": "error",
     "traceback": [
      "\u001b[1;31m---------------------------------------------------------------------------\u001b[0m",
      "\u001b[1;31mNameError\u001b[0m                                 Traceback (most recent call last)",
      "Cell \u001b[1;32mIn[17], line 4\u001b[0m\n\u001b[0;32m      1\u001b[0m df \u001b[38;5;241m=\u001b[39m pl\u001b[38;5;241m.\u001b[39mDataFrame(\n\u001b[0;32m      2\u001b[0m     {\n\u001b[0;32m      3\u001b[0m         \u001b[38;5;124m\"\u001b[39m\u001b[38;5;124ma\u001b[39m\u001b[38;5;124m\"\u001b[39m: \u001b[38;5;28mrange\u001b[39m(\u001b[38;5;241m8\u001b[39m),\n\u001b[1;32m----> 4\u001b[0m         \u001b[38;5;124m\"\u001b[39m\u001b[38;5;124mb\u001b[39m\u001b[38;5;124m\"\u001b[39m: \u001b[43mnp\u001b[49m\u001b[38;5;241m.\u001b[39mrandom\u001b[38;5;241m.\u001b[39mrand(\u001b[38;5;241m8\u001b[39m),\n\u001b[0;32m      5\u001b[0m         \u001b[38;5;124m\"\u001b[39m\u001b[38;5;124md\u001b[39m\u001b[38;5;124m\"\u001b[39m: [\u001b[38;5;241m1.0\u001b[39m, \u001b[38;5;241m2.0\u001b[39m, \u001b[38;5;28mfloat\u001b[39m(\u001b[38;5;124m\"\u001b[39m\u001b[38;5;124mnan\u001b[39m\u001b[38;5;124m\"\u001b[39m), \u001b[38;5;28mfloat\u001b[39m(\u001b[38;5;124m\"\u001b[39m\u001b[38;5;124mnan\u001b[39m\u001b[38;5;124m\"\u001b[39m), \u001b[38;5;241m0.0\u001b[39m, \u001b[38;5;241m-\u001b[39m\u001b[38;5;241m5.0\u001b[39m, \u001b[38;5;241m-\u001b[39m\u001b[38;5;241m42.0\u001b[39m, \u001b[38;5;28;01mNone\u001b[39;00m],\n\u001b[0;32m      6\u001b[0m     }\n\u001b[0;32m      7\u001b[0m )\n\u001b[0;32m      9\u001b[0m df2 \u001b[38;5;241m=\u001b[39m pl\u001b[38;5;241m.\u001b[39mDataFrame(\n\u001b[0;32m     10\u001b[0m     {\n\u001b[0;32m     11\u001b[0m         \u001b[38;5;124m\"\u001b[39m\u001b[38;5;124mx\u001b[39m\u001b[38;5;124m\"\u001b[39m: \u001b[38;5;28mrange\u001b[39m(\u001b[38;5;241m8\u001b[39m),\n\u001b[0;32m     12\u001b[0m         \u001b[38;5;124m\"\u001b[39m\u001b[38;5;124my\u001b[39m\u001b[38;5;124m\"\u001b[39m: [\u001b[38;5;124m\"\u001b[39m\u001b[38;5;124mA\u001b[39m\u001b[38;5;124m\"\u001b[39m, \u001b[38;5;124m\"\u001b[39m\u001b[38;5;124mA\u001b[39m\u001b[38;5;124m\"\u001b[39m, \u001b[38;5;124m\"\u001b[39m\u001b[38;5;124mA\u001b[39m\u001b[38;5;124m\"\u001b[39m, \u001b[38;5;124m\"\u001b[39m\u001b[38;5;124mB\u001b[39m\u001b[38;5;124m\"\u001b[39m, \u001b[38;5;124m\"\u001b[39m\u001b[38;5;124mB\u001b[39m\u001b[38;5;124m\"\u001b[39m, \u001b[38;5;124m\"\u001b[39m\u001b[38;5;124mC\u001b[39m\u001b[38;5;124m\"\u001b[39m, \u001b[38;5;124m\"\u001b[39m\u001b[38;5;124mX\u001b[39m\u001b[38;5;124m\"\u001b[39m, \u001b[38;5;124m\"\u001b[39m\u001b[38;5;124mX\u001b[39m\u001b[38;5;124m\"\u001b[39m],\n\u001b[0;32m     13\u001b[0m     }\n\u001b[0;32m     14\u001b[0m )\n\u001b[0;32m     15\u001b[0m joined \u001b[38;5;241m=\u001b[39m df\u001b[38;5;241m.\u001b[39mjoin(df2, left_on\u001b[38;5;241m=\u001b[39m\u001b[38;5;124m\"\u001b[39m\u001b[38;5;124ma\u001b[39m\u001b[38;5;124m\"\u001b[39m, right_on\u001b[38;5;241m=\u001b[39m\u001b[38;5;124m\"\u001b[39m\u001b[38;5;124mx\u001b[39m\u001b[38;5;124m\"\u001b[39m)\n",
      "\u001b[1;31mNameError\u001b[0m: name 'np' is not defined"
     ]
    }
   ],
   "source": [
    "df = pl.DataFrame(\n",
    "    {\n",
    "        \"a\": range(8),\n",
    "        \"b\": np.random.rand(8),\n",
    "        \"d\": [1.0, 2.0, float(\"nan\"), float(\"nan\"), 0.0, -5.0, -42.0, None],\n",
    "    }\n",
    ")\n",
    "\n",
    "df2 = pl.DataFrame(\n",
    "    {\n",
    "        \"x\": range(8),\n",
    "        \"y\": [\"A\", \"A\", \"A\", \"B\", \"B\", \"C\", \"X\", \"X\"],\n",
    "    }\n",
    ")\n",
    "joined = df.join(df2, left_on=\"a\", right_on=\"x\")\n",
    "print(joined)"
   ]
  }
 ],
 "metadata": {
  "kernelspec": {
   "display_name": "venv",
   "language": "python",
   "name": "python3"
  },
  "language_info": {
   "codemirror_mode": {
    "name": "ipython",
    "version": 3
   },
   "file_extension": ".py",
   "mimetype": "text/x-python",
   "name": "python",
   "nbconvert_exporter": "python",
   "pygments_lexer": "ipython3",
   "version": "3.11.4"
  }
 },
 "nbformat": 4,
 "nbformat_minor": 2
}
