{
 "cells": [
  {
   "cell_type": "code",
   "execution_count": 1,
   "metadata": {},
   "outputs": [
    {
     "data": {
      "text/plain": [
       "<pyarrow.lib.Int64Array object at 0x000001ECB4BEB340>\n",
       "[\n",
       "  1,\n",
       "  2,\n",
       "  3,\n",
       "  4\n",
       "]"
      ]
     },
     "execution_count": 1,
     "metadata": {},
     "output_type": "execute_result"
    }
   ],
   "source": [
    "import pyarrow as pa\n",
    "\n",
    "arr = pa.array([1,2,3,4])\n",
    "arr"
   ]
  },
  {
   "cell_type": "code",
   "execution_count": 2,
   "metadata": {},
   "outputs": [
    {
     "name": "stdout",
     "output_type": "stream",
     "text": [
      "c0: double\n",
      "c1: double\n",
      "c2: double\n",
      "c3: double\n",
      "c4: double\n",
      "c5: double\n",
      "c6: double\n",
      "c7: double\n",
      "c8: double\n",
      "c9: double\n",
      "c10: double\n",
      "c11: double\n",
      "c12: double\n",
      "c13: double\n",
      "c14: double\n",
      "c15: double\n",
      "8192\n"
     ]
    }
   ],
   "source": [
    "import numpy as np\n",
    "\n",
    "NROWS, NCOLS = 8192, 16\n",
    "data = [pa.array(np.random.randn(NROWS)) for i in range(NCOLS)]\n",
    "cols = ['c' + str(i) for i in range(NCOLS)] \n",
    "rb = pa.RecordBatch.from_arrays(data, cols)\n",
    "print(rb.schema)\n",
    "print(rb.num_rows)"
   ]
  },
  {
   "cell_type": "code",
   "execution_count": null,
   "metadata": {},
   "outputs": [],
   "source": [
    "import pyarrow.parquet as pq\n",
    "table = pq.read_table('../../data/yellow_tripdata_2021-01.parquet')"
   ]
  }
 ],
 "metadata": {
  "kernelspec": {
   "display_name": "base",
   "language": "python",
   "name": "python3"
  },
  "language_info": {
   "codemirror_mode": {
    "name": "ipython",
    "version": 3
   },
   "file_extension": ".py",
   "mimetype": "text/x-python",
   "name": "python",
   "nbconvert_exporter": "python",
   "pygments_lexer": "ipython3",
   "version": "3.11.4"
  }
 },
 "nbformat": 4,
 "nbformat_minor": 2
}
