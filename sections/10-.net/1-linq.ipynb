{
 "cells": [
  {
   "cell_type": "code",
   "execution_count": 1,
   "metadata": {
    "dotnet_interactive": {
     "language": "csharp"
    },
    "polyglot_notebook": {
     "kernelName": "csharp"
    }
   },
   "outputs": [],
   "source": [
    "using System;\n",
    "using System.Collections.Generic;\n",
    "using System.Linq;"
   ]
  },
  {
   "cell_type": "code",
   "execution_count": 2,
   "metadata": {
    "dotnet_interactive": {
     "language": "csharp"
    },
    "polyglot_notebook": {
     "kernelName": "csharp"
    }
   },
   "outputs": [],
   "source": [
    "static IEnumerable<string> Suits()\n",
    "{\n",
    "    yield return \"clubs\";\n",
    "    yield return \"diamonds\";\n",
    "    yield return \"hearts\";\n",
    "    yield return \"spades\";\n",
    "}\n",
    "\n",
    "static IEnumerable<string> Ranks()\n",
    "{\n",
    "    yield return \"two\";\n",
    "    yield return \"three\";\n",
    "    yield return \"four\";\n",
    "    yield return \"five\";\n",
    "    yield return \"six\";\n",
    "    yield return \"seven\";\n",
    "    yield return \"eight\";\n",
    "    yield return \"nine\";\n",
    "    yield return \"ten\";\n",
    "    yield return \"jack\";\n",
    "    yield return \"queen\";\n",
    "    yield return \"king\";\n",
    "    yield return \"ace\";\n",
    "}"
   ]
  },
  {
   "cell_type": "code",
   "execution_count": 23,
   "metadata": {
    "dotnet_interactive": {
     "language": "csharp"
    },
    "polyglot_notebook": {
     "kernelName": "csharp"
    }
   },
   "outputs": [
    {
     "data": {
      "text/html": [
       "<table><thead><tr><th><i>index</i></th><th>value</th></tr></thead><tbody><tr><td>0</td><td><details class=\"dni-treeview\"><summary><span class=\"dni-code-hint\"><code>{ Suit = clubs, Rank = two }</code></span></summary><div><table><thead><tr></tr></thead><tbody><tr><td>Suit</td><td><div class=\"dni-plaintext\"><pre>clubs</pre></div></td></tr><tr><td>Rank</td><td><div class=\"dni-plaintext\"><pre>two</pre></div></td></tr></tbody></table></div></details></td></tr><tr><td>1</td><td><details class=\"dni-treeview\"><summary><span class=\"dni-code-hint\"><code>{ Suit = clubs, Rank = three }</code></span></summary><div><table><thead><tr></tr></thead><tbody><tr><td>Suit</td><td><div class=\"dni-plaintext\"><pre>clubs</pre></div></td></tr><tr><td>Rank</td><td><div class=\"dni-plaintext\"><pre>three</pre></div></td></tr></tbody></table></div></details></td></tr><tr><td>2</td><td><details class=\"dni-treeview\"><summary><span class=\"dni-code-hint\"><code>{ Suit = clubs, Rank = four }</code></span></summary><div><table><thead><tr></tr></thead><tbody><tr><td>Suit</td><td><div class=\"dni-plaintext\"><pre>clubs</pre></div></td></tr><tr><td>Rank</td><td><div class=\"dni-plaintext\"><pre>four</pre></div></td></tr></tbody></table></div></details></td></tr><tr><td>3</td><td><details class=\"dni-treeview\"><summary><span class=\"dni-code-hint\"><code>{ Suit = clubs, Rank = five }</code></span></summary><div><table><thead><tr></tr></thead><tbody><tr><td>Suit</td><td><div class=\"dni-plaintext\"><pre>clubs</pre></div></td></tr><tr><td>Rank</td><td><div class=\"dni-plaintext\"><pre>five</pre></div></td></tr></tbody></table></div></details></td></tr><tr><td>4</td><td><details class=\"dni-treeview\"><summary><span class=\"dni-code-hint\"><code>{ Suit = clubs, Rank = six }</code></span></summary><div><table><thead><tr></tr></thead><tbody><tr><td>Suit</td><td><div class=\"dni-plaintext\"><pre>clubs</pre></div></td></tr><tr><td>Rank</td><td><div class=\"dni-plaintext\"><pre>six</pre></div></td></tr></tbody></table></div></details></td></tr><tr><td>5</td><td><details class=\"dni-treeview\"><summary><span class=\"dni-code-hint\"><code>{ Suit = clubs, Rank = seven }</code></span></summary><div><table><thead><tr></tr></thead><tbody><tr><td>Suit</td><td><div class=\"dni-plaintext\"><pre>clubs</pre></div></td></tr><tr><td>Rank</td><td><div class=\"dni-plaintext\"><pre>seven</pre></div></td></tr></tbody></table></div></details></td></tr><tr><td>6</td><td><details class=\"dni-treeview\"><summary><span class=\"dni-code-hint\"><code>{ Suit = clubs, Rank = eight }</code></span></summary><div><table><thead><tr></tr></thead><tbody><tr><td>Suit</td><td><div class=\"dni-plaintext\"><pre>clubs</pre></div></td></tr><tr><td>Rank</td><td><div class=\"dni-plaintext\"><pre>eight</pre></div></td></tr></tbody></table></div></details></td></tr><tr><td>7</td><td><details class=\"dni-treeview\"><summary><span class=\"dni-code-hint\"><code>{ Suit = clubs, Rank = nine }</code></span></summary><div><table><thead><tr></tr></thead><tbody><tr><td>Suit</td><td><div class=\"dni-plaintext\"><pre>clubs</pre></div></td></tr><tr><td>Rank</td><td><div class=\"dni-plaintext\"><pre>nine</pre></div></td></tr></tbody></table></div></details></td></tr><tr><td>8</td><td><details class=\"dni-treeview\"><summary><span class=\"dni-code-hint\"><code>{ Suit = clubs, Rank = ten }</code></span></summary><div><table><thead><tr></tr></thead><tbody><tr><td>Suit</td><td><div class=\"dni-plaintext\"><pre>clubs</pre></div></td></tr><tr><td>Rank</td><td><div class=\"dni-plaintext\"><pre>ten</pre></div></td></tr></tbody></table></div></details></td></tr><tr><td>9</td><td><details class=\"dni-treeview\"><summary><span class=\"dni-code-hint\"><code>{ Suit = clubs, Rank = jack }</code></span></summary><div><table><thead><tr></tr></thead><tbody><tr><td>Suit</td><td><div class=\"dni-plaintext\"><pre>clubs</pre></div></td></tr><tr><td>Rank</td><td><div class=\"dni-plaintext\"><pre>jack</pre></div></td></tr></tbody></table></div></details></td></tr><tr><td>10</td><td><details class=\"dni-treeview\"><summary><span class=\"dni-code-hint\"><code>{ Suit = clubs, Rank = queen }</code></span></summary><div><table><thead><tr></tr></thead><tbody><tr><td>Suit</td><td><div class=\"dni-plaintext\"><pre>clubs</pre></div></td></tr><tr><td>Rank</td><td><div class=\"dni-plaintext\"><pre>queen</pre></div></td></tr></tbody></table></div></details></td></tr><tr><td>11</td><td><details class=\"dni-treeview\"><summary><span class=\"dni-code-hint\"><code>{ Suit = clubs, Rank = king }</code></span></summary><div><table><thead><tr></tr></thead><tbody><tr><td>Suit</td><td><div class=\"dni-plaintext\"><pre>clubs</pre></div></td></tr><tr><td>Rank</td><td><div class=\"dni-plaintext\"><pre>king</pre></div></td></tr></tbody></table></div></details></td></tr><tr><td>12</td><td><details class=\"dni-treeview\"><summary><span class=\"dni-code-hint\"><code>{ Suit = clubs, Rank = ace }</code></span></summary><div><table><thead><tr></tr></thead><tbody><tr><td>Suit</td><td><div class=\"dni-plaintext\"><pre>clubs</pre></div></td></tr><tr><td>Rank</td><td><div class=\"dni-plaintext\"><pre>ace</pre></div></td></tr></tbody></table></div></details></td></tr><tr><td>13</td><td><details class=\"dni-treeview\"><summary><span class=\"dni-code-hint\"><code>{ Suit = diamonds, Rank = two }</code></span></summary><div><table><thead><tr></tr></thead><tbody><tr><td>Suit</td><td><div class=\"dni-plaintext\"><pre>diamonds</pre></div></td></tr><tr><td>Rank</td><td><div class=\"dni-plaintext\"><pre>two</pre></div></td></tr></tbody></table></div></details></td></tr><tr><td>14</td><td><details class=\"dni-treeview\"><summary><span class=\"dni-code-hint\"><code>{ Suit = diamonds, Rank = three }</code></span></summary><div><table><thead><tr></tr></thead><tbody><tr><td>Suit</td><td><div class=\"dni-plaintext\"><pre>diamonds</pre></div></td></tr><tr><td>Rank</td><td><div class=\"dni-plaintext\"><pre>three</pre></div></td></tr></tbody></table></div></details></td></tr><tr><td>15</td><td><details class=\"dni-treeview\"><summary><span class=\"dni-code-hint\"><code>{ Suit = diamonds, Rank = four }</code></span></summary><div><table><thead><tr></tr></thead><tbody><tr><td>Suit</td><td><div class=\"dni-plaintext\"><pre>diamonds</pre></div></td></tr><tr><td>Rank</td><td><div class=\"dni-plaintext\"><pre>four</pre></div></td></tr></tbody></table></div></details></td></tr><tr><td>16</td><td><details class=\"dni-treeview\"><summary><span class=\"dni-code-hint\"><code>{ Suit = diamonds, Rank = five }</code></span></summary><div><table><thead><tr></tr></thead><tbody><tr><td>Suit</td><td><div class=\"dni-plaintext\"><pre>diamonds</pre></div></td></tr><tr><td>Rank</td><td><div class=\"dni-plaintext\"><pre>five</pre></div></td></tr></tbody></table></div></details></td></tr><tr><td>17</td><td><details class=\"dni-treeview\"><summary><span class=\"dni-code-hint\"><code>{ Suit = diamonds, Rank = six }</code></span></summary><div><table><thead><tr></tr></thead><tbody><tr><td>Suit</td><td><div class=\"dni-plaintext\"><pre>diamonds</pre></div></td></tr><tr><td>Rank</td><td><div class=\"dni-plaintext\"><pre>six</pre></div></td></tr></tbody></table></div></details></td></tr><tr><td>18</td><td><details class=\"dni-treeview\"><summary><span class=\"dni-code-hint\"><code>{ Suit = diamonds, Rank = seven }</code></span></summary><div><table><thead><tr></tr></thead><tbody><tr><td>Suit</td><td><div class=\"dni-plaintext\"><pre>diamonds</pre></div></td></tr><tr><td>Rank</td><td><div class=\"dni-plaintext\"><pre>seven</pre></div></td></tr></tbody></table></div></details></td></tr><tr><td>19</td><td><details class=\"dni-treeview\"><summary><span class=\"dni-code-hint\"><code>{ Suit = diamonds, Rank = eight }</code></span></summary><div><table><thead><tr></tr></thead><tbody><tr><td>Suit</td><td><div class=\"dni-plaintext\"><pre>diamonds</pre></div></td></tr><tr><td>Rank</td><td><div class=\"dni-plaintext\"><pre>eight</pre></div></td></tr></tbody></table></div></details></td></tr><tr><td colspan=\"2\"><i>... (more)</i></td></tr></tbody></table><style>\r\n",
       ".dni-code-hint {\r\n",
       "    font-style: italic;\r\n",
       "    overflow: hidden;\r\n",
       "    white-space: nowrap;\r\n",
       "}\r\n",
       ".dni-treeview {\r\n",
       "    white-space: nowrap;\r\n",
       "}\r\n",
       ".dni-treeview td {\r\n",
       "    vertical-align: top;\r\n",
       "    text-align: start;\r\n",
       "}\r\n",
       "details.dni-treeview {\r\n",
       "    padding-left: 1em;\r\n",
       "}\r\n",
       "table td {\r\n",
       "    text-align: start;\r\n",
       "}\r\n",
       "table tr { \r\n",
       "    vertical-align: top; \r\n",
       "    margin: 0em 0px;\r\n",
       "}\r\n",
       "table tr td pre \r\n",
       "{ \r\n",
       "    vertical-align: top !important; \r\n",
       "    margin: 0em 0px !important;\r\n",
       "} \r\n",
       "table th {\r\n",
       "    text-align: start;\r\n",
       "}\r\n",
       "</style>"
      ]
     },
     "metadata": {},
     "output_type": "display_data"
    }
   ],
   "source": [
    "var startingDeck = Suits().SelectMany(\n",
    "    suit => Ranks().Select(\n",
    "        rank => new { Suit = suit, Rank = rank }));\n",
    "startingDeck"
   ]
  },
  {
   "cell_type": "code",
   "execution_count": 19,
   "metadata": {
    "dotnet_interactive": {
     "language": "csharp"
    },
    "polyglot_notebook": {
     "kernelName": "csharp"
    }
   },
   "outputs": [
    {
     "name": "stdout",
     "output_type": "stream",
     "text": [
      "{ Suit = clubs, Rank = two }\n",
      "{ Suit = clubs, Rank = three }\n",
      "{ Suit = clubs, Rank = four }\n",
      "{ Suit = clubs, Rank = five }\n",
      "{ Suit = clubs, Rank = six }\n",
      "{ Suit = clubs, Rank = seven }\n",
      "{ Suit = clubs, Rank = eight }\n",
      "{ Suit = clubs, Rank = nine }\n",
      "{ Suit = clubs, Rank = ten }\n",
      "{ Suit = clubs, Rank = jack }\n",
      "{ Suit = clubs, Rank = queen }\n",
      "{ Suit = clubs, Rank = king }\n",
      "{ Suit = clubs, Rank = ace }\n",
      "{ Suit = diamonds, Rank = two }\n",
      "{ Suit = diamonds, Rank = three }\n",
      "{ Suit = diamonds, Rank = four }\n",
      "{ Suit = diamonds, Rank = five }\n",
      "{ Suit = diamonds, Rank = six }\n",
      "{ Suit = diamonds, Rank = seven }\n",
      "{ Suit = diamonds, Rank = eight }\n",
      "{ Suit = diamonds, Rank = nine }\n",
      "{ Suit = diamonds, Rank = ten }\n",
      "{ Suit = diamonds, Rank = jack }\n",
      "{ Suit = diamonds, Rank = queen }\n",
      "{ Suit = diamonds, Rank = king }\n",
      "{ Suit = diamonds, Rank = ace }\n",
      "{ Suit = hearts, Rank = two }\n",
      "{ Suit = hearts, Rank = three }\n",
      "{ Suit = hearts, Rank = four }\n",
      "{ Suit = hearts, Rank = five }\n",
      "{ Suit = hearts, Rank = six }\n",
      "{ Suit = hearts, Rank = seven }\n",
      "{ Suit = hearts, Rank = eight }\n",
      "{ Suit = hearts, Rank = nine }\n",
      "{ Suit = hearts, Rank = ten }\n",
      "{ Suit = hearts, Rank = jack }\n",
      "{ Suit = hearts, Rank = queen }\n",
      "{ Suit = hearts, Rank = king }\n",
      "{ Suit = hearts, Rank = ace }\n",
      "{ Suit = spades, Rank = two }\n",
      "{ Suit = spades, Rank = three }\n",
      "{ Suit = spades, Rank = four }\n",
      "{ Suit = spades, Rank = five }\n",
      "{ Suit = spades, Rank = six }\n",
      "{ Suit = spades, Rank = seven }\n",
      "{ Suit = spades, Rank = eight }\n",
      "{ Suit = spades, Rank = nine }\n",
      "{ Suit = spades, Rank = ten }\n",
      "{ Suit = spades, Rank = jack }\n",
      "{ Suit = spades, Rank = queen }\n",
      "{ Suit = spades, Rank = king }\n",
      "{ Suit = spades, Rank = ace }\n"
     ]
    }
   ],
   "source": [
    "foreach (var c in startingDeck)\n",
    "    Console.WriteLine(c);\n",
    "\n",
    "// 52 cards in a deck, so 52 / 2 = 26\n",
    "var top = startingDeck.Take(26);\n",
    "var bottom = startingDeck.Skip(26);"
   ]
  }
 ],
 "metadata": {
  "kernelspec": {
   "display_name": ".NET (C#)",
   "language": "C#",
   "name": ".net-csharp"
  },
  "polyglot_notebook": {
   "kernelInfo": {
    "defaultKernelName": "csharp",
    "items": [
     {
      "aliases": [],
      "languageName": "csharp",
      "name": "csharp"
     }
    ]
   }
  }
 },
 "nbformat": 4,
 "nbformat_minor": 2
}
