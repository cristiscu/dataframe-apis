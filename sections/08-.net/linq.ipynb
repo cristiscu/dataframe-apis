{
 "cells": [
  {
   "cell_type": "code",
   "execution_count": null,
   "metadata": {
    "dotnet_interactive": {
     "language": "csharp"
    },
    "polyglot_notebook": {
     "kernelName": "csharp"
    }
   },
   "outputs": [],
   "source": [
    "using System;\n",
    "using System.Collections.Generic;\n",
    "using System.Linq;"
   ]
  },
  {
   "cell_type": "code",
   "execution_count": null,
   "metadata": {
    "dotnet_interactive": {
     "language": "csharp"
    },
    "polyglot_notebook": {
     "kernelName": "csharp"
    }
   },
   "outputs": [],
   "source": [
    "static IEnumerable<string> Suits()\n",
    "{\n",
    "    yield return \"clubs\";\n",
    "    yield return \"diamonds\";\n",
    "    yield return \"hearts\";\n",
    "    yield return \"spades\";\n",
    "}\n",
    "\n",
    "static IEnumerable<string> Ranks()\n",
    "{\n",
    "    yield return \"two\";\n",
    "    yield return \"three\";\n",
    "    yield return \"four\";\n",
    "    yield return \"five\";\n",
    "    yield return \"six\";\n",
    "    yield return \"seven\";\n",
    "    yield return \"eight\";\n",
    "    yield return \"nine\";\n",
    "    yield return \"ten\";\n",
    "    yield return \"jack\";\n",
    "    yield return \"queen\";\n",
    "    yield return \"king\";\n",
    "    yield return \"ace\";\n",
    "}"
   ]
  },
  {
   "cell_type": "code",
   "execution_count": null,
   "metadata": {
    "dotnet_interactive": {
     "language": "csharp"
    },
    "polyglot_notebook": {
     "kernelName": "csharp"
    }
   },
   "outputs": [],
   "source": [
    "var startingDeck = Suits().SelectMany(suit => Ranks().Select(rank => new { Suit = suit, Rank = rank }));"
   ]
  },
  {
   "cell_type": "code",
   "execution_count": null,
   "metadata": {
    "dotnet_interactive": {
     "language": "csharp"
    },
    "polyglot_notebook": {
     "kernelName": "csharp"
    }
   },
   "outputs": [],
   "source": [
    "Console.WriteLine(startingDeck);"
   ]
  },
  {
   "cell_type": "code",
   "execution_count": null,
   "metadata": {
    "dotnet_interactive": {
     "language": "csharp"
    },
    "polyglot_notebook": {
     "kernelName": "csharp"
    }
   },
   "outputs": [],
   "source": [
    "foreach (var c in startingDeck)\n",
    "    Console.WriteLine(c);\n",
    "\n",
    "// 52 cards in a deck, so 52 / 2 = 26\n",
    "var top = startingDeck.Take(26);\n",
    "var bottom = startingDeck.Skip(26);"
   ]
  }
 ],
 "metadata": {
  "kernelspec": {
   "display_name": ".NET (C#)",
   "language": "C#",
   "name": ".net-csharp"
  },
  "polyglot_notebook": {
   "kernelInfo": {
    "defaultKernelName": "csharp",
    "items": [
     {
      "aliases": [],
      "languageName": "csharp",
      "name": "csharp"
     }
    ]
   }
  }
 },
 "nbformat": 4,
 "nbformat_minor": 2
}
