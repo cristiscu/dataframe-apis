{
 "cells": [
  {
   "cell_type": "code",
   "execution_count": 4,
   "metadata": {
    "dotnet_interactive": {
     "language": "csharp"
    },
    "polyglot_notebook": {
     "kernelName": "csharp"
    }
   },
   "outputs": [],
   "source": [
    "using System;\n",
    "using System.Collections.Generic;\n",
    "using System.Linq;"
   ]
  },
  {
   "cell_type": "code",
   "execution_count": 5,
   "metadata": {
    "dotnet_interactive": {
     "language": "csharp"
    },
    "polyglot_notebook": {
     "kernelName": "csharp"
    }
   },
   "outputs": [],
   "source": [
    "static IEnumerable<string> Suits()\n",
    "{\n",
    "    yield return \"clubs\";\n",
    "    yield return \"diamonds\";\n",
    "    yield return \"hearts\";\n",
    "    yield return \"spades\";\n",
    "}\n",
    "\n",
    "static IEnumerable<string> Ranks()\n",
    "{\n",
    "    yield return \"two\";\n",
    "    yield return \"three\";\n",
    "    yield return \"four\";\n",
    "    yield return \"five\";\n",
    "    yield return \"six\";\n",
    "    yield return \"seven\";\n",
    "    yield return \"eight\";\n",
    "    yield return \"nine\";\n",
    "    yield return \"ten\";\n",
    "    yield return \"jack\";\n",
    "    yield return \"queen\";\n",
    "    yield return \"king\";\n",
    "    yield return \"ace\";\n",
    "}"
   ]
  },
  {
   "cell_type": "code",
   "execution_count": 6,
   "metadata": {
    "dotnet_interactive": {
     "language": "csharp"
    },
    "polyglot_notebook": {
     "kernelName": "csharp"
    }
   },
   "outputs": [],
   "source": [
    "var startingDeck = Suits().SelectMany(suit => Ranks().Select(rank => new { Suit = suit, Rank = rank }));"
   ]
  },
  {
   "cell_type": "code",
   "execution_count": 7,
   "metadata": {
    "dotnet_interactive": {
     "language": "csharp"
    },
    "polyglot_notebook": {
     "kernelName": "csharp"
    }
   },
   "outputs": [
    {
     "name": "stdout",
     "output_type": "stream",
     "text": [
      "System.Linq.Enumerable+SelectManySingleSelectorIterator`2[System.String,<>f__AnonymousType0#2`2[System.String,System.String]]\r\n"
     ]
    }
   ],
   "source": [
    "Console.WriteLine(startingDeck);"
   ]
  },
  {
   "cell_type": "code",
   "execution_count": 8,
   "metadata": {
    "dotnet_interactive": {
     "language": "csharp"
    },
    "polyglot_notebook": {
     "kernelName": "csharp"
    }
   },
   "outputs": [
    {
     "name": "stdout",
     "output_type": "stream",
     "text": [
      "{ Suit = clubs, Rank = two }\n",
      "{ Suit = clubs, Rank = three }\n",
      "{ Suit = clubs, Rank = four }\n",
      "{ Suit = clubs, Rank = five }\n",
      "{ Suit = clubs, Rank = six }\n",
      "{ Suit = clubs, Rank = seven }\n",
      "{ Suit = clubs, Rank = eight }\n",
      "{ Suit = clubs, Rank = nine }\n",
      "{ Suit = clubs, Rank = ten }\n",
      "{ Suit = clubs, Rank = jack }\n",
      "{ Suit = clubs, Rank = queen }\n",
      "{ Suit = clubs, Rank = king }\n",
      "{ Suit = clubs, Rank = ace }\n",
      "{ Suit = diamonds, Rank = two }\n",
      "{ Suit = diamonds, Rank = three }\n",
      "{ Suit = diamonds, Rank = four }\n",
      "{ Suit = diamonds, Rank = five }\n",
      "{ Suit = diamonds, Rank = six }\n",
      "{ Suit = diamonds, Rank = seven }\n",
      "{ Suit = diamonds, Rank = eight }\n",
      "{ Suit = diamonds, Rank = nine }\n",
      "{ Suit = diamonds, Rank = ten }\n",
      "{ Suit = diamonds, Rank = jack }\n",
      "{ Suit = diamonds, Rank = queen }\n",
      "{ Suit = diamonds, Rank = king }\n",
      "{ Suit = diamonds, Rank = ace }\n",
      "{ Suit = hearts, Rank = two }\n",
      "{ Suit = hearts, Rank = three }\n",
      "{ Suit = hearts, Rank = four }\n",
      "{ Suit = hearts, Rank = five }\n",
      "{ Suit = hearts, Rank = six }\n",
      "{ Suit = hearts, Rank = seven }\n",
      "{ Suit = hearts, Rank = eight }\n",
      "{ Suit = hearts, Rank = nine }\n",
      "{ Suit = hearts, Rank = ten }\n",
      "{ Suit = hearts, Rank = jack }\n",
      "{ Suit = hearts, Rank = queen }\n",
      "{ Suit = hearts, Rank = king }\n",
      "{ Suit = hearts, Rank = ace }\n",
      "{ Suit = spades, Rank = two }\n",
      "{ Suit = spades, Rank = three }\n",
      "{ Suit = spades, Rank = four }\n",
      "{ Suit = spades, Rank = five }\n",
      "{ Suit = spades, Rank = six }\n",
      "{ Suit = spades, Rank = seven }\n",
      "{ Suit = spades, Rank = eight }\n",
      "{ Suit = spades, Rank = nine }\n",
      "{ Suit = spades, Rank = ten }\n",
      "{ Suit = spades, Rank = jack }\n",
      "{ Suit = spades, Rank = queen }\n",
      "{ Suit = spades, Rank = king }\n",
      "{ Suit = spades, Rank = ace }\n"
     ]
    }
   ],
   "source": [
    "foreach (var c in startingDeck)\n",
    "    Console.WriteLine(c);\n",
    "\n",
    "// 52 cards in a deck, so 52 / 2 = 26\n",
    "var top = startingDeck.Take(26);\n",
    "var bottom = startingDeck.Skip(26);"
   ]
  }
 ],
 "metadata": {
  "kernelspec": {
   "display_name": ".NET (C#)",
   "language": "C#",
   "name": ".net-csharp"
  },
  "polyglot_notebook": {
   "kernelInfo": {
    "defaultKernelName": "csharp",
    "items": [
     {
      "aliases": [],
      "languageName": "csharp",
      "name": "csharp"
     }
    ]
   }
  }
 },
 "nbformat": 4,
 "nbformat_minor": 2
}
